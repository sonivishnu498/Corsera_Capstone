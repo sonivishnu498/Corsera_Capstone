{
  "nbformat": 4,
  "nbformat_minor": 0,
  "metadata": {
    "colab": {
      "name": "capstone week-5.ipynb",
      "version": "0.3.2",
      "provenance": [],
      "collapsed_sections": []
    },
    "kernelspec": {
      "name": "python3",
      "display_name": "Python 3"
    }
  },
  "cells": [
    {
      "cell_type": "markdown",
      "metadata": {
        "id": "xkCFnEB1geST",
        "colab_type": "text"
      },
      "source": [
        "# IBM Applied Data Science Capstone Course by Coursera\n",
        "## **Week 5 Final Report**\n",
        "#### *Opening a New Shopping Mall in Kuala Lumpur, Malaysia*\n",
        "\n",
        "* Build a dataframe of neighborhoods in Kuala Lumpur, Malaysia by web scraping the data from Wikipedia page\n",
        "* Get the geographical coordinates of the neighborhoods\n",
        "* Obtain the venue data for the neighborhoods from Foursquare API\n",
        "* Explore and cluster the neighborhoods\n",
        "* Select the best cluster to open a new shopping mall\n"
      ]
    },
    {
      "cell_type": "markdown",
      "metadata": {
        "id": "4sgLb3icjnZW",
        "colab_type": "text"
      },
      "source": [
        "## 1. Import Libraries"
      ]
    },
    {
      "cell_type": "code",
      "metadata": {
        "id": "uJl_dGNlTAun",
        "colab_type": "code",
        "colab": {}
      },
      "source": [
        "# Imprt Libraries\n",
        "\n",
        "import numpy as np # library to handle data in a vectorized manner\n",
        "\n",
        "import pandas as pd # library for data analsysis\n",
        "pd.set_option(\"display.max_columns\", None)\n",
        "pd.set_option(\"display.max_rows\", None)\n",
        "\n",
        "import json # library to handle JSON files\n",
        "\n",
        "from geopy.geocoders import Nominatim # convert an address into latitude and longitude values\n",
        "import geocoder # to get coordinates\n",
        "\n",
        "import requests # library to handle requests\n",
        "from bs4 import BeautifulSoup # library to parse HTML and XML documents\n",
        "\n",
        "from pandas.io.json import json_normalize # tranform JSON file into a pandas dataframe\n",
        "\n",
        "# Matplotlib and associated plotting modules\n",
        "import matplotlib.cm as cm\n",
        "import matplotlib.colors as colors\n",
        "\n",
        "# import k-means from clustering stage\n",
        "from sklearn.cluster import KMeans\n",
        "\n",
        "import folium # map rendering library\n",
        "\n",
        "print(\"Libraries imported.\")"
      ],
      "execution_count": 0,
      "outputs": []
    },
    {
      "cell_type": "markdown",
      "metadata": {
        "id": "O64qdraqjapw",
        "colab_type": "text"
      },
      "source": [
        "## 2. Scrap data from wikipedia"
      ]
    },
    {
      "cell_type": "code",
      "metadata": {
        "id": "TXY9daMkTsqJ",
        "colab_type": "code",
        "colab": {}
      },
      "source": [
        "# send the GET request\n",
        "data = requests.get(\"https://en.wikipedia.org/wiki/Category:Suburbs_in_Kuala_Lumpur\").text"
      ],
      "execution_count": 0,
      "outputs": []
    },
    {
      "cell_type": "code",
      "metadata": {
        "id": "qlwxsMN2Tv_o",
        "colab_type": "code",
        "colab": {}
      },
      "source": [
        "# parse data from the html into a beautifulsoup object\n",
        "soup = BeautifulSoup(data, 'html.parser')"
      ],
      "execution_count": 0,
      "outputs": []
    },
    {
      "cell_type": "code",
      "metadata": {
        "id": "XDKgrlzBUCWN",
        "colab_type": "code",
        "colab": {}
      },
      "source": [
        "# create a list to store neighborhood data\n",
        "neighborhoodList = []"
      ],
      "execution_count": 0,
      "outputs": []
    },
    {
      "cell_type": "code",
      "metadata": {
        "id": "f0uanRyjUFtB",
        "colab_type": "code",
        "colab": {}
      },
      "source": [
        "# append the data into the list\n",
        "for row in soup.find_all(\"div\", class_=\"mw-category\")[0].findAll(\"li\"):\n",
        "    neighborhoodList.append(row.text)"
      ],
      "execution_count": 0,
      "outputs": []
    },
    {
      "cell_type": "code",
      "metadata": {
        "id": "iMhNT9zSUGWa",
        "colab_type": "code",
        "colab": {}
      },
      "source": [
        "# create a new DataFrame from the list\n",
        "kl_df = pd.DataFrame({\"Neighborhood\": neighborhoodList})\n",
        "\n",
        "kl_df.head()"
      ],
      "execution_count": 0,
      "outputs": []
    },
    {
      "cell_type": "code",
      "metadata": {
        "id": "1zfEQ-aCUGhE",
        "colab_type": "code",
        "colab": {}
      },
      "source": [
        "# print the number of rows of the dataframe\n",
        "kl_df.shape"
      ],
      "execution_count": 0,
      "outputs": []
    },
    {
      "cell_type": "markdown",
      "metadata": {
        "id": "nSGSW-uGj0Fu",
        "colab_type": "text"
      },
      "source": [
        "##  3. Get the geographical coordinates"
      ]
    },
    {
      "cell_type": "code",
      "metadata": {
        "id": "OgxasoNhUGjp",
        "colab_type": "code",
        "colab": {}
      },
      "source": [
        "# define a function to get coordinates\n",
        "def get_latlng(neighborhood):\n",
        "    # initialize your variable to None\n",
        "    lat_lng_coords = None\n",
        "    # loop until you get the coordinates\n",
        "    while(lat_lng_coords is None):\n",
        "        g = geocoder.arcgis('{}, Kuala Lumpur, Malaysia'.format(neighborhood))\n",
        "        lat_lng_coords = g.latlng\n",
        "    return lat_lng_coords"
      ],
      "execution_count": 0,
      "outputs": []
    },
    {
      "cell_type": "code",
      "metadata": {
        "id": "RBd4-myBUGrO",
        "colab_type": "code",
        "colab": {}
      },
      "source": [
        "# call the function to get the coordinates, store in a new list using list comprehension\n",
        "coords = [ get_latlng(neighborhood) for neighborhood in kl_df[\"Neighborhood\"].tolist() ]"
      ],
      "execution_count": 0,
      "outputs": []
    },
    {
      "cell_type": "code",
      "metadata": {
        "id": "gsApicGbUGtu",
        "colab_type": "code",
        "colab": {}
      },
      "source": [
        "coords"
      ],
      "execution_count": 0,
      "outputs": []
    },
    {
      "cell_type": "code",
      "metadata": {
        "id": "rHp-NyoIUGyt",
        "colab_type": "code",
        "colab": {}
      },
      "source": [
        "# create temporary dataframe to populate the coordinates into Latitude and Longitude\n",
        "df_coords = pd.DataFrame(coords, columns=['Latitude', 'Longitude'])"
      ],
      "execution_count": 0,
      "outputs": []
    },
    {
      "cell_type": "code",
      "metadata": {
        "id": "CTqq3EdTUswF",
        "colab_type": "code",
        "colab": {}
      },
      "source": [
        "# merge the coordinates into the original dataframe\n",
        "kl_df['Latitude'] = df_coords['Latitude']\n",
        "kl_df['Longitude'] = df_coords['Longitude']"
      ],
      "execution_count": 0,
      "outputs": []
    },
    {
      "cell_type": "code",
      "metadata": {
        "id": "DYoiFP-XUG3r",
        "colab_type": "code",
        "colab": {}
      },
      "source": [
        "# check the neighborhoods and the coordinates\n",
        "print(kl_df.shape)\n",
        "kl_df"
      ],
      "execution_count": 0,
      "outputs": []
    },
    {
      "cell_type": "code",
      "metadata": {
        "id": "oIgqYejPUG6g",
        "colab_type": "code",
        "colab": {}
      },
      "source": [
        "# save the DataFrame as CSV file\n",
        "kl_df.to_csv(\"kl_df.csv\", index=False)"
      ],
      "execution_count": 0,
      "outputs": []
    },
    {
      "cell_type": "markdown",
      "metadata": {
        "id": "cEz8akxzkIaw",
        "colab_type": "text"
      },
      "source": [
        "## 4. Create a map of Kuala Lumpur with neighborhoods superimposed on top"
      ]
    },
    {
      "cell_type": "code",
      "metadata": {
        "id": "zyJ-EX8zUG_Q",
        "colab_type": "code",
        "colab": {}
      },
      "source": [
        "# get the coordinates of Kuala Lumpur\n",
        "address = 'Kuala Lumpur, Malaysia'\n",
        "\n",
        "geolocator = Nominatim(user_agent=\"my-application\")\n",
        "location = geolocator.geocode(address)\n",
        "latitude = location.latitude\n",
        "longitude = location.longitude\n",
        "print('The geograpical coordinate of Kuala Lumpur, Malaysiae {}, {}.'.format(latitude, longitude))"
      ],
      "execution_count": 0,
      "outputs": []
    },
    {
      "cell_type": "code",
      "metadata": {
        "id": "g15yl7faUHCA",
        "colab_type": "code",
        "colab": {}
      },
      "source": [
        "# create map of Toronto using latitude and longitude values\n",
        "map_kl = folium.Map(location=[latitude, longitude], zoom_start=11)\n",
        "\n",
        "# add markers to map\n",
        "for lat, lng, neighborhood in zip(kl_df['Latitude'], kl_df['Longitude'], kl_df['Neighborhood']):\n",
        "    label = '{}'.format(neighborhood)\n",
        "    label = folium.Popup(label, parse_html=True)\n",
        "    folium.CircleMarker(\n",
        "        [lat, lng],\n",
        "        radius=5,\n",
        "        popup=label,\n",
        "        color='blue',\n",
        "        fill=True,\n",
        "        fill_color='#3186cc',\n",
        "        fill_opacity=0.7).add_to(map_kl)  \n",
        "    \n",
        "map_kl"
      ],
      "execution_count": 0,
      "outputs": []
    },
    {
      "cell_type": "code",
      "metadata": {
        "id": "lpZABC0WUG9V",
        "colab_type": "code",
        "colab": {}
      },
      "source": [
        "# save the map as HTML file\n",
        "map_kl.save('map_kl.html')"
      ],
      "execution_count": 0,
      "outputs": []
    },
    {
      "cell_type": "markdown",
      "metadata": {
        "id": "cEsPAFl5kVWq",
        "colab_type": "text"
      },
      "source": [
        "## 5. Use the Foursquare API to explore the neighborhoods"
      ]
    },
    {
      "cell_type": "code",
      "metadata": {
        "id": "KprckBk2UG2A",
        "colab_type": "code",
        "colab": {}
      },
      "source": [
        "# define Foursquare Credentials and Version\n",
        "CLIENT_ID = 'your Foursquare ID' # your Foursquare ID\n",
        "CLIENT_SECRET = 'your Foursquare Secret' # your Foursquare Secret\n",
        "VERSION = '20180605' # Foursquare API version\n",
        "\n",
        "print('Your credentails:')\n",
        "print('CLIENT_ID: ' + CLIENT_ID)\n",
        "print('CLIENT_SECRET:' + CLIENT_SECRET)"
      ],
      "execution_count": 0,
      "outputs": []
    },
    {
      "cell_type": "markdown",
      "metadata": {
        "id": "Lr0iMxJKkeAl",
        "colab_type": "text"
      },
      "source": [
        "#### Now, let's get the top 100 venues that are within a radius of 2000 meters."
      ]
    },
    {
      "cell_type": "code",
      "metadata": {
        "id": "BUw7SuT6UGwv",
        "colab_type": "code",
        "colab": {}
      },
      "source": [
        "radius = 2000\n",
        "LIMIT = 100\n",
        "\n",
        "venues = []\n",
        "\n",
        "for lat, long, neighborhood in zip(kl_df['Latitude'], kl_df['Longitude'], kl_df['Neighborhood']):\n",
        "    \n",
        "    # create the API request URL\n",
        "    url = \"https://api.foursquare.com/v2/venues/explore?client_id={}&client_secret={}&v={}&ll={},{}&radius={}&limit={}\".format(\n",
        "        CLIENT_ID,\n",
        "        CLIENT_SECRET,\n",
        "        VERSION,\n",
        "        lat,\n",
        "        long,\n",
        "        radius, \n",
        "        LIMIT)\n",
        "    \n",
        "    # make the GET request\n",
        "    results = requests.get(url).json()[\"response\"]['groups'][0]['items']\n",
        "    \n",
        "    # return only relevant information for each nearby venue\n",
        "    for venue in results:\n",
        "        venues.append((\n",
        "            neighborhood,\n",
        "            lat, \n",
        "            long, \n",
        "            venue['venue']['name'], \n",
        "            venue['venue']['location']['lat'], \n",
        "            venue['venue']['location']['lng'],  \n",
        "            venue['venue']['categories'][0]['name']))"
      ],
      "execution_count": 0,
      "outputs": []
    },
    {
      "cell_type": "code",
      "metadata": {
        "id": "FvMPkvX3UGot",
        "colab_type": "code",
        "colab": {}
      },
      "source": [
        "# convert the venues list into a new DataFrame\n",
        "venues_df = pd.DataFrame(venues)\n",
        "\n",
        "# define the column names\n",
        "venues_df.columns = ['Neighborhood', 'Latitude', 'Longitude', 'VenueName', 'VenueLatitude', 'VenueLongitude', 'VenueCategory']\n",
        "\n",
        "print(venues_df.shape)\n",
        "venues_df.head()"
      ],
      "execution_count": 0,
      "outputs": []
    },
    {
      "cell_type": "code",
      "metadata": {
        "id": "9aeHRg5FUGmO",
        "colab_type": "code",
        "colab": {}
      },
      "source": [
        "venues_df.groupby([\"Neighborhood\"]).count()"
      ],
      "execution_count": 0,
      "outputs": []
    },
    {
      "cell_type": "code",
      "metadata": {
        "id": "iYz0FGZGVi4o",
        "colab_type": "code",
        "colab": {}
      },
      "source": [
        "print('There are {} uniques categories.'.format(len(venues_df['VenueCategory'].unique())))"
      ],
      "execution_count": 0,
      "outputs": []
    },
    {
      "cell_type": "code",
      "metadata": {
        "id": "z_wfc5eWVono",
        "colab_type": "code",
        "colab": {}
      },
      "source": [
        "# print out the list of categories\n",
        "venues_df['VenueCategory'].unique()[:50]"
      ],
      "execution_count": 0,
      "outputs": []
    },
    {
      "cell_type": "code",
      "metadata": {
        "id": "AOa19epSV0Z4",
        "colab_type": "code",
        "colab": {}
      },
      "source": [
        "# check if the results contain \"Shopping Mall\"\n",
        "\"Neighborhood\" in venues_df['VenueCategory'].unique()"
      ],
      "execution_count": 0,
      "outputs": []
    },
    {
      "cell_type": "markdown",
      "metadata": {
        "id": "OQNg6rDMkpkx",
        "colab_type": "text"
      },
      "source": [
        "## 6. Analyze Each Neighborhood"
      ]
    },
    {
      "cell_type": "code",
      "metadata": {
        "id": "JA90jwmDV1xe",
        "colab_type": "code",
        "colab": {}
      },
      "source": [
        "# one hot encoding\n",
        "kl_onehot = pd.get_dummies(venues_df[['VenueCategory']], prefix=\"\", prefix_sep=\"\")\n",
        "\n",
        "# add neighborhood column back to dataframe\n",
        "kl_onehot['Neighborhoods'] = venues_df['Neighborhood'] \n",
        "\n",
        "# move neighborhood column to the first column\n",
        "fixed_columns = [kl_onehot.columns[-1]] + list(kl_onehot.columns[:-1])\n",
        "kl_onehot = kl_onehot[fixed_columns]\n",
        "\n",
        "print(kl_onehot.shape)\n",
        "kl_onehot.head()\n"
      ],
      "execution_count": 0,
      "outputs": []
    },
    {
      "cell_type": "code",
      "metadata": {
        "id": "ST-vqsvrV50M",
        "colab_type": "code",
        "colab": {}
      },
      "source": [
        "kl_grouped = kl_onehot.groupby([\"Neighborhoods\"]).mean().reset_index()\n",
        "\n",
        "print(kl_grouped.shape)\n",
        "kl_grouped"
      ],
      "execution_count": 0,
      "outputs": []
    },
    {
      "cell_type": "code",
      "metadata": {
        "id": "i9GG-xgOV-dD",
        "colab_type": "code",
        "colab": {}
      },
      "source": [
        "len(kl_grouped[kl_grouped[\"Shopping Mall\"] > 0])"
      ],
      "execution_count": 0,
      "outputs": []
    },
    {
      "cell_type": "code",
      "metadata": {
        "id": "VN3tTmyBWDnS",
        "colab_type": "code",
        "colab": {}
      },
      "source": [
        "kl_mall = kl_grouped[[\"Neighborhoods\",\"Shopping Mall\"]]"
      ],
      "execution_count": 0,
      "outputs": []
    },
    {
      "cell_type": "code",
      "metadata": {
        "id": "j0SRVzyGTHza",
        "colab_type": "code",
        "colab": {}
      },
      "source": [
        "kl_mall.head()"
      ],
      "execution_count": 0,
      "outputs": []
    },
    {
      "cell_type": "markdown",
      "metadata": {
        "id": "6g2ugSxZk1PJ",
        "colab_type": "text"
      },
      "source": [
        "## 7. Cluster Neighborhoods"
      ]
    },
    {
      "cell_type": "code",
      "metadata": {
        "id": "OD_DAfu7WLqj",
        "colab_type": "code",
        "colab": {}
      },
      "source": [
        "# set number of clusters\n",
        "kclusters = 3\n",
        "\n",
        "kl_clustering = kl_mall.drop([\"Neighborhoods\"], 1)\n",
        "\n",
        "# run k-means clustering\n",
        "kmeans = KMeans(n_clusters=kclusters, random_state=0).fit(kl_clustering)\n",
        "\n",
        "# check cluster labels generated for each row in the dataframe\n",
        "kmeans.labels_[0:10] "
      ],
      "execution_count": 0,
      "outputs": []
    },
    {
      "cell_type": "code",
      "metadata": {
        "id": "T8oCW6nAWLo2",
        "colab_type": "code",
        "colab": {}
      },
      "source": [
        "# create a new dataframe that includes the cluster as well as the top 10 venues for each neighborhood.\n",
        "kl_merged = kl_mall.copy()\n",
        "\n",
        "# add clustering labels\n",
        "kl_merged[\"Cluster Labels\"] = kmeans.labels_"
      ],
      "execution_count": 0,
      "outputs": []
    },
    {
      "cell_type": "code",
      "metadata": {
        "id": "T6bcnwtxWP8r",
        "colab_type": "code",
        "colab": {}
      },
      "source": [
        "kl_merged.rename(columns={\"Neighborhoods\": \"Neighborhood\"}, inplace=True)\n",
        "kl_merged.head()"
      ],
      "execution_count": 0,
      "outputs": []
    },
    {
      "cell_type": "code",
      "metadata": {
        "id": "aFP3BHE9WP6k",
        "colab_type": "code",
        "colab": {}
      },
      "source": [
        "# merge toronto_grouped with toronto_data to add latitude/longitude for each neighborhood\n",
        "kl_merged = kl_merged.join(kl_df.set_index(\"Neighborhood\"), on=\"Neighborhood\")\n",
        "\n",
        "print(kl_merged.shape)\n",
        "kl_merged.head() # check the last columns!"
      ],
      "execution_count": 0,
      "outputs": []
    },
    {
      "cell_type": "code",
      "metadata": {
        "id": "S9Iw4YcjWLl9",
        "colab_type": "code",
        "colab": {}
      },
      "source": [
        "# sort the results by Cluster Labels\n",
        "print(kl_merged.shape)\n",
        "kl_merged.sort_values([\"Cluster Labels\"], inplace=True)\n",
        "kl_merged"
      ],
      "execution_count": 0,
      "outputs": []
    },
    {
      "cell_type": "code",
      "metadata": {
        "id": "WE2Pzrp1Wa57",
        "colab_type": "code",
        "colab": {}
      },
      "source": [
        "# create map\n",
        "map_clusters = folium.Map(location=[latitude, longitude], zoom_start=11)\n",
        "\n",
        "# set color scheme for the clusters\n",
        "x = np.arange(kclusters)\n",
        "ys = [i+x+(i*x)**2 for i in range(kclusters)]\n",
        "colors_array = cm.rainbow(np.linspace(0, 1, len(ys)))\n",
        "rainbow = [colors.rgb2hex(i) for i in colors_array]\n",
        "\n",
        "# add markers to the map\n",
        "markers_colors = []\n",
        "for lat, lon, poi, cluster in zip(kl_merged['Latitude'], kl_merged['Longitude'], kl_merged['Neighborhood'], kl_merged['Cluster Labels']):\n",
        "    label = folium.Popup(str(poi) + ' - Cluster ' + str(cluster), parse_html=True)\n",
        "    folium.CircleMarker(\n",
        "        [lat, lon],\n",
        "        radius=5,\n",
        "        popup=label,\n",
        "        color=rainbow[cluster-1],\n",
        "        fill=True,\n",
        "        fill_color=rainbow[cluster-1],\n",
        "        fill_opacity=0.7).add_to(map_clusters)\n",
        "       \n",
        "map_clusters"
      ],
      "execution_count": 0,
      "outputs": []
    },
    {
      "cell_type": "markdown",
      "metadata": {
        "id": "qZfW0gQxlCLL",
        "colab_type": "text"
      },
      "source": [
        "## 8. Examine Clusters"
      ]
    },
    {
      "cell_type": "code",
      "metadata": {
        "id": "XuOIdj2lWbJT",
        "colab_type": "code",
        "colab": {}
      },
      "source": [
        "# save the map as HTML file\n",
        "map_clusters.save('map_clusters.html')"
      ],
      "execution_count": 0,
      "outputs": []
    },
    {
      "cell_type": "code",
      "metadata": {
        "id": "j18aJEn4WbMF",
        "colab_type": "code",
        "colab": {}
      },
      "source": [
        "kl_merged.loc[kl_merged['Cluster Labels'] == 0]"
      ],
      "execution_count": 0,
      "outputs": []
    },
    {
      "cell_type": "code",
      "metadata": {
        "id": "9JUnHX9sWa3W",
        "colab_type": "code",
        "colab": {}
      },
      "source": [
        "kl_merged.loc[kl_merged['Cluster Labels'] == 2]"
      ],
      "execution_count": 0,
      "outputs": []
    },
    {
      "cell_type": "markdown",
      "metadata": {
        "id": "gJNB5ikGlPvh",
        "colab_type": "text"
      },
      "source": [
        "### Observations:\n",
        "\n",
        "Most of the shopping malls are concentrated in the central area of Kuala Lumpur city, with the highest number in cluster 2 and moderate number in cluster 0. On    the other hand, cluster 1 has very low number to totally no shopping mall in the neighborhoods. This represents a great opportunity and high potential areas to      open new shopping malls as there is very little to no competition from existing malls. Meanwhile, shopping malls in cluster 2 are likely suffering from intense          competition due to oversupply and high concentration of shopping malls. From another perspective, this also shows that the oversupply of shopping malls mostly happened in the central area of the city, with the suburb area still have very few shopping malls. Therefore, this project recommends property developers to capitalize on these findings to open new shopping malls in neighborhoods in cluster 1 with little to no competition. Property developers with unique selling propositions to stand out from the competition can also open new shopping malls in neighborhoods in cluster 0 with moderate competition. Lastly, property developers are advised to avoid neighborhoods in cluster 2 which already have high concentration of shopping malls and suffering from intense competition.\n",
        "\n"
      ]
    },
    {
      "cell_type": "code",
      "metadata": {
        "id": "gXVs_wJdWu5D",
        "colab_type": "code",
        "colab": {}
      },
      "source": [
        ""
      ],
      "execution_count": 0,
      "outputs": []
    }
  ]
}